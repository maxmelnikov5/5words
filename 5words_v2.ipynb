{
 "cells": [
  {
   "cell_type": "markdown",
   "metadata": {},
   "source": [
    "# 5 букв\n",
    "Приложуха для игры в \"5 букв\" тинькоф\n",
    "Задача - за 6 ходов отгадать существительное из 5 букв\n",
    "Вторая версия - автоматическая\n"
   ]
  },
  {
   "cell_type": "markdown",
   "metadata": {},
   "source": [
    "## Служебные ячейки\n",
    "Их нужно запустить, иначе работать не будет"
   ]
  },
  {
   "cell_type": "code",
   "execution_count": 1,
   "metadata": {
    "tags": []
   },
   "outputs": [],
   "source": [
    "# Imports\n",
    "\n",
    "import pandas as pd\n",
    "import re\n",
    "# from collections import Counter"
   ]
  },
  {
   "cell_type": "code",
   "execution_count": 3,
   "metadata": {},
   "outputs": [],
   "source": [
    "# Functions\n",
    "\n",
    "# function to read external source of words\n",
    "def get_words (url, letters = 5):\n",
    "    ''' parse local or web-based txt o csv with nouns. Has 2 variables:\n",
    "    url - e.g. https://raw.githubusercontent.com/Harrix/Russian-Nouns/main/dist/russian_nouns.txt \n",
    "    letters - int, 5 by default '''\n",
    "\n",
    "    df = pd.read_csv(url, names=[\"noun\"]) # read vocabulaty\n",
    "\n",
    "    df = df.loc[df['noun'].str.len() == letters] # filter 5 letters only\n",
    "    # s = pd.Series(df['noun'])\n",
    "    return pd.Series(df['noun'])\n",
    "\n",
    "# finctions to get frequencies of the words \n",
    "\n",
    "def get_rus_nouns_freq(words):\n",
    "    '''get russina words freq from НКРЯ-based dict http://dict.ruslang.ru/freq.php from local file'''\n",
    "    Path = 'src\\\\freqrnc2011.csv'\n",
    "    WordFreq = pd.read_csv(Path, sep=\"\\t\")\n",
    "    WordFreq = WordFreq[WordFreq['PoS'] == \"s\"].loc[ :,['Lemma','Freq(ipm)']]\n",
    "    \n",
    "    sf = pd.DataFrame(words)\n",
    "    sf = sf.merge(WordFreq, how='left', left_on='noun', right_on='Lemma')\n",
    "    return sf.loc[:, ['noun','Freq(ipm)']].sort_values(by=['Freq(ipm)'],ascending=False)\n",
    "\n",
    "# function to count letter freq in dictionary - returns data frame\n",
    "def letter_freq(words):\n",
    "    ''' returns frequencies of letters in passed pandas/numPy series of words '''\n",
    "    AllWords = \"\".join(str(i) for i in words)\n",
    "    # print(AllWords)\n",
    "    LettersCount = {}\n",
    "    for i in AllWords:\n",
    "        LettersCount[i] = LettersCount.get(i,0) + 1\n",
    "        # print(i, LettersCount.get(i,0))\n",
    "    # print(LettersCount)\n",
    "    LettFreq = pd.DataFrame.from_dict(LettersCount, orient=\"index\",columns=['freq']).reset_index().sort_values(by = 'freq', ascending=False) #calculate letters frequency\n",
    "    # print(LettFreq)\n",
    "    # LettFreq = LettFreq.sort_values(by = 'freq', ascending=False)\n",
    "    # print(LettFreq)\n",
    "    # return LettersCount\n",
    "    return LettFreq\n",
    "\n",
    "# function to count letter freq in dictionary - returns dicstionary\n",
    "\n",
    "def letter_freq_dict(words):\n",
    "    ''' returns dictionary with frequencies of letters in passed pandas/numPy series of words '''\n",
    "    AllWords = \"\".join(str(i) for i in words)\n",
    "    # print(AllWords)\n",
    "    LettersCount = {}\n",
    "    for i in AllWords:\n",
    "        LettersCount[i] = LettersCount.get(i,0) + 1\n",
    "        # print(i, LettersCount.get(i,0))\n",
    "    # print(LettersCount)\n",
    "    # LettFreq = pd.DataFrame.from_dict(LettersCount, orient=\"index\",columns=['freq']).reset_index().sort_values(by = 'freq', ascending=False) #calculate letters frequency\n",
    "    # print(LettFreq)\n",
    "    # LettFreq = LettFreq.sort_values(by = 'freq', ascending=False)\n",
    "    # print(LettFreq)\n",
    "    return LettersCount\n",
    "\n",
    "\n",
    "# Function to get top letters in dictionary\n",
    "\n",
    "def top_letters (words, topammount=10):\n",
    "    '''Returns string of lwtters with top frequencies in passed pandas/numPy series of words\n",
    "        topammount - number of letters (10 by default)'''\n",
    "    LettersCount = letter_freq_dict(words)\n",
    "    df = pd.DataFrame.from_dict(LettersCount, orient=\"index\",columns=['freq']).reset_index().sort_values(by = 'freq', ascending=False)\n",
    "    TopLetters = df['index'][0:topammount].to_string(index=False).replace('\\n','')\n",
    "    return TopLetters\n",
    "\n",
    "# Function to get one word with most frequent letters\n",
    "\n",
    "def first_word(words):\n",
    "    '''function that generates first word with most frequent letters in passed pandas/numPy series of words'''\n",
    "\n",
    "    TopLeters = top_letters(words) # get letters with highest frequencies\n",
    "    # WordSeries = pd.Series()\n",
    "    WordSeries = words[words.str.match( r'(^[{}]+$)'.format(TopLeters)) == True] #filter words contains only top letters\n",
    "    WordSeries = WordSeries[WordSeries.str.match( r'^(?:([а-я])(?!.*\\1))*$') ==True  ] #filter out words with repeating letters\n",
    "    WordSeries = pd.DataFrame(WordSeries) #convert do Data Frame\n",
    "    \n",
    "    #Calculate frequencies of all letters in a word\n",
    "\n",
    "    # Set temp variables\n",
    "    WordLettFreq = 0\n",
    "    WordLettFreqTotal = []\n",
    "    FreqDict = letter_freq_dict(words) \n",
    "    for i in WordSeries['noun']: #cycle through table to get each word\n",
    "        for l in i:              #cycle through letters in word to get letters grequency summ\n",
    "            WordLettFreq = WordLettFreq + FreqDict.get(l)\n",
    "        # print(i,a)\n",
    "        WordLettFreqTotal.append(WordLettFreq)\n",
    "\n",
    "    WordSeries['freq'] = WordLettFreqTotal #add word letters frequencies to the table\n",
    "\n",
    "\n",
    "    return WordSeries.loc[WordSeries['freq'].idxmax()]['noun']  # get the word with largest freq summ\n",
    "\n",
    "\n",
    "# finction to create mask ouptut string\n",
    "def create_mask_inst(letter, mask, mask_type):\n",
    "    ''' \n",
    "    create a value for a word mask\n",
    "    letter - current processed letter\n",
    "    cu\n",
    "    types: \n",
    "    1 - правильная буква в правильном месте\n",
    "    2 - правильная буква в неправильном месте\n",
    "    3 - непавильная буква\n",
    "    '''\n",
    "    # d = dict({\"1\":\"\",\"2\":\"\",\"3\":})\n",
    "    # d = dict()\n",
    "\n",
    "    if mask_type == \"1\":\n",
    "        return letter\n",
    "    elif mask_type == \"2\":\n",
    "        if mask == \".\":\n",
    "            return \"[^{}]\".format(letter)\n",
    "        else:\n",
    "            return \"[^{}{}]\".format(mask[2:-1],letter)\n",
    "    \n",
    "    else:\n",
    "        return \".\"\n",
    "\n",
    "# function that parse responce and return compiled regex\n",
    "\n",
    "def parse_response2(word, response, source =(\"\", \"\", [\".\",\".\",\".\",\".\",\".\"]) ):\n",
    "    '''Return regex: mask, bad letters, good letters'''\n",
    "    \n",
    "    # print(source)\n",
    "    yes_letters = source[0]\n",
    "    no_letters = source[1]\n",
    "    known_word = source[2]\n",
    "    # print(known_word)\n",
    "    # print(word)\n",
    "    LetterNum = 0  #counter for position in a response\n",
    "    for i in response:\n",
    "        # print (i)\n",
    "        LetterNum = LetterNum + 1\n",
    "        # print(LetterNum)\n",
    "        l = word[LetterNum-1]\n",
    "        # print(l)\n",
    "        known_word[LetterNum-1] = create_mask_inst(l,known_word[LetterNum-1],i )    #create mask\n",
    "        if i == \"3\":                                                                #add letters to list of wrong letters\n",
    "            no_letters = no_letters + l\n",
    "        elif i == \"2\":\n",
    "            yes_letters = yes_letters + word[LetterNum-1]                           #add letters to list of exact letters\n",
    "    \n",
    "    return yes_letters, no_letters, known_word\n",
    "\n",
    "# function that returns a worda to regex\n",
    "\n",
    "def get_candidate2 (words, source):\n",
    "    '''Returns single word that matches passed conditions.\n",
    "        source variable shoult contain 3 strings for regex:\n",
    "            words - series of words (pandas series)\n",
    "            regex - list of compiled regex\n",
    "            word_number - number of words to show, 1 by default\n",
    "        '''\n",
    "    \n",
    "    yes_letters = source[0]\n",
    "    no_letters = source[1]\n",
    "    known_word = source[2]\n",
    "\n",
    "    known_word = \"\".join(map(str,known_word))\n",
    "    reg_word = re.compile( r'^{}$'.format(known_word),re.VERBOSE | re.IGNORECASE)   #regex for word mask\n",
    "\n",
    "    reg_isnot = re.compile( r'(^[^{}]+$)'.format(no_letters),re.VERBOSE | re.IGNORECASE)    #regex for letters not in word\n",
    "\n",
    "\n",
    "    good_letters_seq = str()                                                        #cycle to create source string for a regex for lettters in a word\n",
    "    for i in yes_letters:\n",
    "        # print(i)\n",
    "        good_letters_seq = good_letters_seq+\"(?=.*\"+i+\")\"                           \n",
    "\n",
    "    reg_isin = re.compile( r\"{}\".format(good_letters_seq), re.VERBOSE | re.IGNORECASE)  #regex for letters in a word\n",
    "\n",
    "    regex = (reg_word, reg_isnot, reg_isin)                                             #group resulting regex\n",
    "    \n",
    "    candidates = words\n",
    "    for i in regex:                                                                     #filter dictionary with regex\n",
    "        candidates = candidates[candidates.str.match(i)== True]\n",
    "    return candidates.iloc[0]\n",
    "\n",
    "# function that parse responce and return compiled regex\n",
    "\n",
    "def parse_response(word, response, yes_letters = \"\", no_letters = \"\",known_word = [\".\",\".\",\".\",\".\",\".\"] ):\n",
    "    '''Return regex: mask, bad letters, good letters'''\n",
    "    LetterNum = 0  #counter for position in a response\n",
    "    for i in response:\n",
    "        LetterNum = LetterNum + 1\n",
    "        l = word[LetterNum-1]\n",
    "        known_word[LetterNum-1] = create_mask_inst(l,known_word[LetterNum-1],i )    #create mask\n",
    "        if i == \"3\":                                                                #add letters to list of wrong letters\n",
    "            no_letters = no_letters + l\n",
    "        elif i == \"2\":\n",
    "            yes_letters = yes_letters + word[LetterNum-1]                           #add letters to list of exact letters\n",
    "    \n",
    "\n",
    "    known_word = \"\".join(map(str,known_word))\n",
    "    reg_word = re.compile( r'^{}$'.format(known_word),re.VERBOSE | re.IGNORECASE)   #regex for word mask\n",
    "\n",
    "    reg_isnot = re.compile( r'(^[^{}]+$)'.format(no_letters),re.VERBOSE | re.IGNORECASE)    #regex for letters not in word\n",
    "\n",
    "\n",
    "    good_letters_seq = str()                                                        #cycle to create source string for a regex for lettters in a word\n",
    "    for i in yes_letters:\n",
    "        # print(i)\n",
    "        good_letters_seq = good_letters_seq+\"(?=.*\"+i+\")\"                           \n",
    "\n",
    "    reg_isin = re.compile( r\"{}\".format(good_letters_seq), re.VERBOSE | re.IGNORECASE)  #regex for letters in a word\n",
    "\n",
    "    return reg_word, reg_isnot, reg_isin\n",
    "\n",
    "# function that returns a worda to regex\n",
    "\n",
    "def get_candidate (words, regex, word_number = 1):\n",
    "    '''Returns words that matches passed regex.\n",
    "        words - series of words\n",
    "        regex - list of compiled regex\n",
    "        word_number - number of words to show, 1 by default\n",
    "        '''\n",
    "    candidates = words\n",
    "    for i in regex:\n",
    "        candidates = candidates[candidates.str.match(i)== True]\n",
    "    return candidates.head(word_number)\n"
   ]
  },
  {
   "cell_type": "code",
   "execution_count": 82,
   "metadata": {},
   "outputs": [
    {
     "name": "stdout",
     "output_type": "stream",
     "text": [
      "трико\n"
     ]
    }
   ],
   "source": [
    "#\n",
    "\n",
    "# load nouns library\n",
    "# source: https://github.com/Harrix/Russian-Nouns/tree/main/dist\n",
    "\n",
    "\n",
    "Url = \"https://raw.githubusercontent.com/Harrix/Russian-Nouns/main/dist/russian_nouns.txt\"\n",
    "s = get_words(Url)\n",
    "FirstWord = first_word(s) # initial word for a game\n",
    "print(FirstWord)\n"
   ]
  },
  {
   "cell_type": "code",
   "execution_count": 74,
   "metadata": {},
   "outputs": [
    {
     "name": "stdout",
     "output_type": "stream",
     "text": [
      "трико\n"
     ]
    },
    {
     "data": {
      "text/plain": [
       "'абзац'"
      ]
     },
     "execution_count": 74,
     "metadata": {},
     "output_type": "execute_result"
    }
   ],
   "source": [
    "\n",
    "Moves = 0\n",
    "CurrentWord = FirstWord\n",
    "r = (\"\", \"\", [\".\",\".\",\".\",\".\",\".\"])\n",
    "while Moves < 6:\n",
    "    Moves += 1\n",
    "    Response = input()\n",
    "    if Response == \"11111\":\n",
    "        break\n",
    "    r = parse_response2(CurrentWord, Response,r)\n",
    "    CurrentWord = get_candidate2(s, r)\n",
    "    print(CurrentWord)\n",
    "\n",
    "\n",
    "\n",
    "print(FirstWord)\n",
    "Response = \"33333\"\n",
    "r = parse_response2(FirstWord,Response)\n",
    "r\n",
    "SecondWord = get_candidate2(s,r)\n",
    "SecondWord"
   ]
  },
  {
   "cell_type": "code",
   "execution_count": 77,
   "metadata": {},
   "outputs": [
    {
     "data": {
      "text/plain": [
       "('', 'трико', ['.', '.', '.', '.', '.'])"
      ]
     },
     "execution_count": 77,
     "metadata": {},
     "output_type": "execute_result"
    }
   ],
   "source": [
    "r"
   ]
  },
  {
   "cell_type": "code",
   "execution_count": 34,
   "metadata": {},
   "outputs": [
    {
     "data": {
      "text/plain": [
       "'[^d]'"
      ]
     },
     "execution_count": 34,
     "metadata": {},
     "output_type": "execute_result"
    }
   ],
   "source": [
    "create_mask_inst(\"d\",r[2][1],\"2\")"
   ]
  },
  {
   "cell_type": "code",
   "execution_count": 78,
   "metadata": {},
   "outputs": [
    {
     "data": {
      "text/plain": [
       "'ведун'"
      ]
     },
     "execution_count": 78,
     "metadata": {},
     "output_type": "execute_result"
    }
   ],
   "source": [
    "Response = \"33333\"\n",
    "\n",
    "r2 = parse_response2(SecondWord,Response, source = r )\n",
    "r2\n",
    "ThirdWord = get_candidate2(s,r2)\n",
    "ThirdWord"
   ]
  },
  {
   "cell_type": "code",
   "execution_count": 5,
   "metadata": {},
   "outputs": [
    {
     "name": "stdout",
     "output_type": "stream",
     "text": [
      "трико\n"
     ]
    },
    {
     "data": {
      "text/plain": [
       "16    абзац\n",
       "Name: noun, dtype: object"
      ]
     },
     "execution_count": 5,
     "metadata": {},
     "output_type": "execute_result"
    }
   ],
   "source": [
    "print(FirstWord)\n",
    "Response = \"33333\"\n",
    "r = parse_response(FirstWord,Response)\n",
    "get_candidate(s,r)"
   ]
  },
  {
   "cell_type": "code",
   "execution_count": 81,
   "metadata": {},
   "outputs": [
    {
     "name": "stdout",
     "output_type": "stream",
     "text": [
      "0\n",
      "абзац\n",
      "0\n",
      "абзац\n",
      "0\n"
     ]
    },
    {
     "ename": "IndexError",
     "evalue": "string index out of range",
     "output_type": "error",
     "traceback": [
      "\u001b[1;31m---------------------------------------------------------------------------\u001b[0m",
      "\u001b[1;31mIndexError\u001b[0m                                Traceback (most recent call last)",
      "\u001b[1;32mc:\\Users\\maxme\\OneDrive\\Documents\\TempDocs\\VSCode\\5words\\5words_v2.ipynb Ячейка 12\u001b[0m in \u001b[0;36m<cell line: 4>\u001b[1;34m()\u001b[0m\n\u001b[0;32m      <a href='vscode-notebook-cell:/c%3A/Users/maxme/OneDrive/Documents/TempDocs/VSCode/5words/5words_v2.ipynb#W5sZmlsZQ%3D%3D?line=5'>6</a>\u001b[0m \u001b[39mprint\u001b[39m(Moves)\n\u001b[0;32m      <a href='vscode-notebook-cell:/c%3A/Users/maxme/OneDrive/Documents/TempDocs/VSCode/5words/5words_v2.ipynb#W5sZmlsZQ%3D%3D?line=6'>7</a>\u001b[0m Response \u001b[39m=\u001b[39m \u001b[39minput\u001b[39m()\n\u001b[1;32m----> <a href='vscode-notebook-cell:/c%3A/Users/maxme/OneDrive/Documents/TempDocs/VSCode/5words/5words_v2.ipynb#W5sZmlsZQ%3D%3D?line=7'>8</a>\u001b[0m r \u001b[39m=\u001b[39m parse_response2(CurrentWord, Response,r)\n\u001b[0;32m      <a href='vscode-notebook-cell:/c%3A/Users/maxme/OneDrive/Documents/TempDocs/VSCode/5words/5words_v2.ipynb#W5sZmlsZQ%3D%3D?line=8'>9</a>\u001b[0m CurrentWord \u001b[39m=\u001b[39m get_candidate2(s, r)\n\u001b[0;32m     <a href='vscode-notebook-cell:/c%3A/Users/maxme/OneDrive/Documents/TempDocs/VSCode/5words/5words_v2.ipynb#W5sZmlsZQ%3D%3D?line=9'>10</a>\u001b[0m \u001b[39mprint\u001b[39m(CurrentWord)\n",
      "\u001b[1;32mc:\\Users\\maxme\\OneDrive\\Documents\\TempDocs\\VSCode\\5words\\5words_v2.ipynb Ячейка 12\u001b[0m in \u001b[0;36mparse_response2\u001b[1;34m(word, response, source)\u001b[0m\n\u001b[0;32m     <a href='vscode-notebook-cell:/c%3A/Users/maxme/OneDrive/Documents/TempDocs/VSCode/5words/5words_v2.ipynb#W5sZmlsZQ%3D%3D?line=14'>15</a>\u001b[0m LetterNum \u001b[39m=\u001b[39m LetterNum \u001b[39m+\u001b[39m \u001b[39m1\u001b[39m\n\u001b[0;32m     <a href='vscode-notebook-cell:/c%3A/Users/maxme/OneDrive/Documents/TempDocs/VSCode/5words/5words_v2.ipynb#W5sZmlsZQ%3D%3D?line=15'>16</a>\u001b[0m \u001b[39m# print(LetterNum)\u001b[39;00m\n\u001b[1;32m---> <a href='vscode-notebook-cell:/c%3A/Users/maxme/OneDrive/Documents/TempDocs/VSCode/5words/5words_v2.ipynb#W5sZmlsZQ%3D%3D?line=16'>17</a>\u001b[0m l \u001b[39m=\u001b[39m word[LetterNum\u001b[39m-\u001b[39;49m\u001b[39m1\u001b[39;49m]\n\u001b[0;32m     <a href='vscode-notebook-cell:/c%3A/Users/maxme/OneDrive/Documents/TempDocs/VSCode/5words/5words_v2.ipynb#W5sZmlsZQ%3D%3D?line=17'>18</a>\u001b[0m \u001b[39m# print(l)\u001b[39;00m\n\u001b[0;32m     <a href='vscode-notebook-cell:/c%3A/Users/maxme/OneDrive/Documents/TempDocs/VSCode/5words/5words_v2.ipynb#W5sZmlsZQ%3D%3D?line=18'>19</a>\u001b[0m known_word[LetterNum\u001b[39m-\u001b[39m\u001b[39m1\u001b[39m] \u001b[39m=\u001b[39m create_mask_inst(l,known_word[LetterNum\u001b[39m-\u001b[39m\u001b[39m1\u001b[39m],i )    \u001b[39m#create mask\u001b[39;00m\n",
      "\u001b[1;31mIndexError\u001b[0m: string index out of range"
     ]
    }
   ],
   "source": [
    "Moves = 0\n",
    "CurrentWord = FirstWord\n",
    "r = (\"\", \"\", [\".\",\".\",\".\",\".\",\".\"])\n",
    "while Moves < 6:\n",
    "    Moves += 1\n",
    "    print(Moves)\n",
    "    Response = input()\n",
    "    r = parse_response2(CurrentWord, Response,r)\n",
    "    CurrentWord = get_candidate2(s, r)\n",
    "    print(CurrentWord)\n"
   ]
  }
 ],
 "metadata": {
  "kernelspec": {
   "display_name": "Python 3.9.12 ('base')",
   "language": "python",
   "name": "python3"
  },
  "language_info": {
   "codemirror_mode": {
    "name": "ipython",
    "version": 3
   },
   "file_extension": ".py",
   "mimetype": "text/x-python",
   "name": "python",
   "nbconvert_exporter": "python",
   "pygments_lexer": "ipython3",
   "version": "3.9.12"
  },
  "orig_nbformat": 4,
  "vscode": {
   "interpreter": {
    "hash": "3e89cc40ac0e4ab38e96168c10bcb37749be72486dcb69ea15a3256d7a98f5e5"
   }
  }
 },
 "nbformat": 4,
 "nbformat_minor": 2
}
