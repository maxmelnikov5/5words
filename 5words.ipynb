{
 "cells": [
  {
   "cell_type": "markdown",
   "metadata": {},
   "source": [
    "# 5 буквpython re library\n",
    "Приложуха для игры в \"5 букв\" тинькоф\n",
    "Задача - за 6 ходов отгадать существительное из 5 букв"
   ]
  },
  {
   "cell_type": "code",
   "execution_count": 1,
   "metadata": {},
   "outputs": [],
   "source": [
    "# Imports\n",
    "\n",
    "import pandas as pd\n",
    "import re"
   ]
  },
  {
   "cell_type": "code",
   "execution_count": 2,
   "metadata": {},
   "outputs": [],
   "source": [
    "# load nouns library\n",
    "# source: https://github.com/Harrix/Russian-Nouns/tree/main/dist\n",
    "\n",
    "df = pd.read_csv('src\\\\russian_nouns.txt', names=[\"noun\"]) # read vocabulaty\n",
    "df = df.loc[df['noun'].str.len() == 5] # filter 5 letters only\n",
    "s = pd.Series(df['noun'])"
   ]
  },
  {
   "cell_type": "code",
   "execution_count": 91,
   "metadata": {},
   "outputs": [
    {
     "data": {
      "text/plain": [
       "531      акрил\n",
       "879      анкер\n",
       "927      антик\n",
       "994      антре\n",
       "9978     елина\n",
       "10008    ерник\n",
       "12667    икона\n",
       "12681    икота\n",
       "12925    инока\n",
       "14068    карел\n",
       "14257    катер\n",
       "14458    кенар\n",
       "15213    колер\n",
       "15223    колет\n",
       "15229    колит\n",
       "16589    креол\n",
       "16714    кроат\n",
       "16783    крона\n",
       "17843    ленок\n",
       "17845    лента\n",
       "17846    ленто\n",
       "17883    лерка\n",
       "17998    леток\n",
       "18249    литер\n",
       "18263    литка\n",
       "21840    накол\n",
       "23486    нерка\n",
       "23847    никто\n",
       "23850    нилот\n",
       "23868    нитка\n",
       "24001    нолик\n",
       "24044    норка\n",
       "24096    нотка\n",
       "25440    океан\n",
       "25566    олеин\n",
       "25966    оркан\n",
       "25975    орлан\n",
       "25978    орлик\n",
       "36187    ранет\n",
       "36685    ратин\n",
       "37096    рента\n",
       "37521    ролик\n",
       "37615    ротик\n",
       "43220    талер\n",
       "43222    талик\n",
       "43231    талон\n",
       "43279    танок\n",
       "43512    телик\n",
       "43521    телок\n",
       "43582    тенор\n",
       "43714    терно\n",
       "43887    тиран\n",
       "44064    тоник\n",
       "44561    трико\n",
       "Name: noun, dtype: object"
      ]
     },
     "execution_count": 91,
     "metadata": {},
     "output_type": "execute_result"
    }
   ],
   "source": [
    "# Get initial words for a game\n",
    "\n",
    "\n",
    "#Calculate most frequent letters\n",
    "\n",
    "allwords = \"\".join(str(i) for i in s) # create data to couunt letters freq.\n",
    "   \n",
    "\n",
    "a = ord('а')\n",
    "letters = ''.join([chr(i) for i in range(a,a+32)]) #create list of all letters\n",
    "letters_count = {} #create dictionarry for all letters\n",
    "for i in letters:\n",
    "    letters_count.update({str(i):allwords.count(str(i))})\n",
    "\n",
    "lett_freq = pd.DataFrame.from_dict(letters_count, orient=\"index\",columns=['freq']).reset_index() #calculate letters frequency\n",
    "lett_freq.sort_values(by = 'freq', ascending=False, inplace=True)\n",
    "\n",
    "\n",
    "#get words with most frequent letters\n",
    "\n",
    "# s2 = s[s.str.match( r'(^[аокрител]+$)') == True] #filter words contains only top letters\n",
    "s2 = s[s.str.match( r'(^[{}]+$)'.format(lett_freq['index'][0:9].to_string(index=False).replace('\\n',''))) == True] #filter words contains only top letters\n",
    "\n",
    "s2[s2.str.match( r'^(?:([а-я])(?!.*\\1))*$') ==True  ] #filter out words with repeating letters\n",
    "\n"
   ]
  },
  {
   "cell_type": "code",
   "execution_count": 92,
   "metadata": {},
   "outputs": [
    {
     "data": {
      "text/plain": [
       "588    акциз\n",
       "590    акция\n",
       "Name: noun, dtype: object"
      ]
     },
     "execution_count": 92,
     "metadata": {},
     "output_type": "execute_result"
    }
   ],
   "source": [
    "# Generate versions\n",
    "\n",
    "# Input\n",
    "\n",
    "known_word = 'ак.и.'\n",
    "known_letters = \"\"\n",
    "wrong_letters = \"рлтв\"\n",
    "\n",
    "\n",
    "# genereta requests\n",
    "\n",
    "reg_word = re.compile( r'^{}$'.format(known_word),re.VERBOSE | re.IGNORECASE)\n",
    "\n",
    "reg_isnot = re.compile( r'(^[^{}]+$)'.format(wrong_letters),re.VERBOSE | re.IGNORECASE)\n",
    "\n",
    "\n",
    "good_letters_seq = str()\n",
    "\n",
    "for i in known_letters:\n",
    "    # print(i)\n",
    "    good_letters_seq = good_letters_seq+\"(?=.*\"+i+\")\"\n",
    "\n",
    "\n",
    "reg_isin = re.compile( r\"{}\".format(good_letters_seq), re.VERBOSE | re.IGNORECASE)\n",
    "\n",
    "#filter words\n",
    "\n",
    "results = s[s.str.match(reg_isnot) == True]\n",
    "results =results[results.str.match(reg_isin) == True]\n",
    "results =results[results.str.match(reg_word) == True]\n",
    "\n",
    "results.head(50)\n",
    "\n"
   ]
  }
 ],
 "metadata": {
  "kernelspec": {
   "display_name": "Python 3.9.12 ('base')",
   "language": "python",
   "name": "python3"
  },
  "language_info": {
   "codemirror_mode": {
    "name": "ipython",
    "version": 3
   },
   "file_extension": ".py",
   "mimetype": "text/x-python",
   "name": "python",
   "nbconvert_exporter": "python",
   "pygments_lexer": "ipython3",
   "version": "3.9.12"
  },
  "orig_nbformat": 4,
  "vscode": {
   "interpreter": {
    "hash": "3e89cc40ac0e4ab38e96168c10bcb37749be72486dcb69ea15a3256d7a98f5e5"
   }
  }
 },
 "nbformat": 4,
 "nbformat_minor": 2
}
